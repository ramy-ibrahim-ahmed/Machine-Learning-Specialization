{
 "cells": [
  {
   "cell_type": "markdown",
   "metadata": {},
   "source": [
    "# **Vectorization**"
   ]
  },
  {
   "cell_type": "code",
   "execution_count": 1,
   "metadata": {},
   "outputs": [],
   "source": [
    "import numpy as np\n",
    "from lab_utils_common import sigmoid"
   ]
  },
  {
   "cell_type": "markdown",
   "metadata": {},
   "source": [
    "Vector @ Vector"
   ]
  },
  {
   "cell_type": "code",
   "execution_count": 2,
   "metadata": {},
   "outputs": [
    {
     "name": "stdout",
     "output_type": "stream",
     "text": [
      "[[11]]\n"
     ]
    },
    {
     "data": {
      "text/plain": [
       "array([[11]])"
      ]
     },
     "execution_count": 2,
     "metadata": {},
     "output_type": "execute_result"
    }
   ],
   "source": [
    "x = np.array(\n",
    "    [\n",
    "        [1],\n",
    "        [2],\n",
    "    ]\n",
    ")  # (2, 1)\n",
    "\n",
    "w = np.array(\n",
    "    [\n",
    "        [3],\n",
    "        [4],\n",
    "    ]\n",
    ")  # (2, 1)\n",
    "\n",
    "xt = x.T  # (1, 2)\n",
    "\n",
    "print(np.dot(xt, w))  # (1, 2) @ (2, 1)\n",
    "xt @ w"
   ]
  },
  {
   "cell_type": "markdown",
   "metadata": {},
   "source": [
    "Vector @ Matrix"
   ]
  },
  {
   "cell_type": "code",
   "execution_count": 3,
   "metadata": {},
   "outputs": [
    {
     "name": "stdout",
     "output_type": "stream",
     "text": [
      "[[11]]\n"
     ]
    }
   ],
   "source": [
    "# xt [[1, 2]] (1, 2)\n",
    "\n",
    "W = np.array(\n",
    "    [\n",
    "        [3, 5],\n",
    "        [4, 6],\n",
    "    ]\n",
    ")  # (2, 2)\n",
    "\n",
    "z = np.matmul(xt, w)  # (1, 2) @ (2, 2)\n",
    "print(z)\n",
    "# xt @ w"
   ]
  },
  {
   "cell_type": "markdown",
   "metadata": {},
   "source": [
    "Matrix @ Matrix"
   ]
  },
  {
   "cell_type": "code",
   "execution_count": 4,
   "metadata": {},
   "outputs": [
    {
     "name": "stdout",
     "output_type": "stream",
     "text": [
      "[[ 11.   17.   23.    9. ]\n",
      " [-11.  -17.  -23.   -9. ]\n",
      " [  1.1   1.7   2.3   0.9]]\n"
     ]
    }
   ],
   "source": [
    "A = np.array(\n",
    "    [\n",
    "        [1, -1, 0.1],\n",
    "        [2, -2, 0.2],\n",
    "    ]\n",
    ")  # (2, 3)\n",
    "\n",
    "W = np.array(\n",
    "    [\n",
    "        [3, 5, 7, 9],\n",
    "        [4, 6, 8, 0],\n",
    "    ]\n",
    ")  # (2, 4)\n",
    "\n",
    "At = A.T  # (3, 2) @ (2, 4)\n",
    "\n",
    "print(np.matmul(At, W))"
   ]
  },
  {
   "cell_type": "markdown",
   "metadata": {},
   "source": [
    "Dense Layer Vectorization"
   ]
  },
  {
   "cell_type": "code",
   "execution_count": 5,
   "metadata": {},
   "outputs": [],
   "source": [
    "A = np.array([[200, 17]])\n",
    "\n",
    "W = np.array(\n",
    "    [\n",
    "        [1, -3, 5],\n",
    "        [-2, 4, -6],\n",
    "    ]\n",
    ")\n",
    "\n",
    "B = np.array([[-1, 1, 2]])\n",
    "\n",
    "Z = np.matmul(A, W) + B  # [[ 165, -531,  900]]\n",
    "\n",
    "A = (sigmoid(Z) >= 0.5).astype(int)"
   ]
  },
  {
   "cell_type": "markdown",
   "metadata": {},
   "source": [
    "Dense function"
   ]
  },
  {
   "cell_type": "code",
   "execution_count": 6,
   "metadata": {},
   "outputs": [],
   "source": [
    "def dense(A_in, W, B):\n",
    "    A_out = sigmoid(np.matmul(A_in, W) + B)\n",
    "    return A_out"
   ]
  }
 ],
 "metadata": {
  "kernelspec": {
   "display_name": "Python 3",
   "language": "python",
   "name": "python3"
  },
  "language_info": {
   "codemirror_mode": {
    "name": "ipython",
    "version": 3
   },
   "file_extension": ".py",
   "mimetype": "text/x-python",
   "name": "python",
   "nbconvert_exporter": "python",
   "pygments_lexer": "ipython3",
   "version": "3.11.4"
  }
 },
 "nbformat": 4,
 "nbformat_minor": 2
}
